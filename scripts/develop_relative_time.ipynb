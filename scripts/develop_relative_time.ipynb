{
 "cells": [
  {
   "cell_type": "code",
   "execution_count": 1,
   "metadata": {},
   "outputs": [],
   "source": [
    "%reload_ext autoreload\n",
    "%autoreload 2\n",
    "from neuro_py.process import peri_event\n",
    "import numpy as np"
   ]
  },
  {
   "cell_type": "code",
   "execution_count": 2,
   "metadata": {},
   "outputs": [
    {
     "data": {
      "text/plain": [
       "(array([nan, 0. , 0.5, 1. , 0. , 0.5, 1. , 0. , 0.5, 1. ]),\n",
       " array([nan,  0.,  0.,  0.,  1.,  1.,  1.,  2.,  2.,  2.]))"
      ]
     },
     "execution_count": 2,
     "metadata": {},
     "output_type": "execute_result"
    }
   ],
   "source": [
    "\n",
    "t = np.array([0, 1, 2, 3, 4, 5, 6, 7, 8, 9])\n",
    "intervals = np.array([[1, 3], [4, 6], [7, 9]])\n",
    "peri_event.relative_times(t, intervals)\n"
   ]
  },
  {
   "cell_type": "code",
   "execution_count": 20,
   "metadata": {},
   "outputs": [],
   "source": [
    "from numba import jit"
   ]
  },
  {
   "cell_type": "code",
   "execution_count": 38,
   "metadata": {},
   "outputs": [
    {
     "data": {
      "text/plain": [
       "(array([nan, 0. , 0.5, 1. , 0. , 0.5, 1. , 0. , 0.5, 1. ]),\n",
       " array([nan,  0.,  0.,  0.,  1.,  1.,  1.,  2.,  2.,  2.]))"
      ]
     },
     "execution_count": 38,
     "metadata": {},
     "output_type": "execute_result"
    }
   ],
   "source": [
    "@jit(nopython=True)\n",
    "def relative_times(t, intervals, values=np.array([0, 1])):    \n",
    "    rt = np.zeros(len(t), dtype=np.float64) * np.nan\n",
    "    intervalID = np.zeros(len(t), dtype=np.float64) * np.nan\n",
    "\n",
    "    start_times = intervals[:, 0]\n",
    "    end_times = intervals[:, 1]\n",
    "    values_diff = values[1] - values[0]\n",
    "    intervals_diff = end_times - start_times\n",
    "    intervals_scale = values_diff / intervals_diff\n",
    "\n",
    "    for i in range(len(t)):\n",
    "        idx = np.searchsorted(start_times, t[i])\n",
    "        if idx > 0 and t[i] <= end_times[idx - 1]:\n",
    "            interval_i = idx - 1\n",
    "        elif idx < len(start_times) and t[i] == start_times[idx]:\n",
    "            interval_i = idx\n",
    "        else:\n",
    "            continue\n",
    "\n",
    "        scale = intervals_scale[interval_i]\n",
    "        rt[i] = ((t[i] - start_times[interval_i]) * scale) + values[0]\n",
    "        intervalID[i] = interval_i\n",
    "\n",
    "    return rt, intervalID\n",
    "\n",
    "t = np.array([0, 1, 2, 3, 4, 5, 6, 7, 8, 9])\n",
    "intervals = np.array([[1, 3], [4, 6], [7, 9]])\n",
    "relative_times(t, intervals)\n"
   ]
  },
  {
   "cell_type": "code",
   "execution_count": null,
   "metadata": {},
   "outputs": [],
   "source": []
  },
  {
   "cell_type": "code",
   "execution_count": null,
   "metadata": {},
   "outputs": [],
   "source": []
  }
 ],
 "metadata": {
  "kernelspec": {
   "display_name": "ripple_heterogeneity",
   "language": "python",
   "name": "python3"
  },
  "language_info": {
   "codemirror_mode": {
    "name": "ipython",
    "version": 3
   },
   "file_extension": ".py",
   "mimetype": "text/x-python",
   "name": "python",
   "nbconvert_exporter": "python",
   "pygments_lexer": "ipython3",
   "version": "3.9.15"
  },
  "orig_nbformat": 4
 },
 "nbformat": 4,
 "nbformat_minor": 2
}
