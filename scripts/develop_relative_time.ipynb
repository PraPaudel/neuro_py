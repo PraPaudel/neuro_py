{
 "cells": [
  {
   "cell_type": "code",
   "execution_count": 4,
   "metadata": {},
   "outputs": [
    {
     "name": "stdout",
     "output_type": "stream",
     "text": [
      "neuro_py\\__init__\n",
      "neuro_py\\__init__.md\n",
      "reference\\neuro_py\\__init__.md\n"
     ]
    },
    {
     "ename": "ConfigurationError",
     "evalue": "Config file 'mkdocs.yml' does not exist.",
     "output_type": "error",
     "traceback": [
      "\u001b[1;31m---------------------------------------------------------------------------\u001b[0m",
      "\u001b[1;31mConfigurationError\u001b[0m                        Traceback (most recent call last)",
      "Cell \u001b[1;32mIn[4], line 63\u001b[0m\n\u001b[0;32m     59\u001b[0m         module_name \u001b[38;5;241m=\u001b[39m m\n\u001b[0;32m     60\u001b[0m         module_index \u001b[38;5;241m+\u001b[39m\u001b[38;5;241m=\u001b[39m \u001b[38;5;124mf\u001b[39m\u001b[38;5;124m\"\u001b[39m\u001b[38;5;124m* [\u001b[39m\u001b[38;5;132;01m{\u001b[39;00mmodule_name\u001b[38;5;132;01m}\u001b[39;00m\u001b[38;5;124m]\u001b[39m\u001b[38;5;124m\"\u001b[39m \\\n\u001b[0;32m     61\u001b[0m                         \u001b[38;5;124m\"\u001b[39m\u001b[38;5;124m(\u001b[39m\u001b[38;5;124m\"\u001b[39m\u001b[38;5;241m+\u001b[39mm\u001b[38;5;241m+\u001b[39m\u001b[38;5;124m\"\u001b[39m\u001b[38;5;124m.md)\u001b[39m\u001b[38;5;130;01m\\n\u001b[39;00m\u001b[38;5;124m\"\u001b[39m\n\u001b[1;32m---> 63\u001b[0m     \u001b[38;5;28;01mwith\u001b[39;00m \u001b[43mmkdocs_gen_files\u001b[49m\u001b[38;5;241;43m.\u001b[39;49m\u001b[43mopen\u001b[49m(full_doc_path, \u001b[38;5;124m\"\u001b[39m\u001b[38;5;124mw\u001b[39m\u001b[38;5;124m\"\u001b[39m) \u001b[38;5;28;01mas\u001b[39;00m fd:\n\u001b[0;32m     64\u001b[0m         fd\u001b[38;5;241m.\u001b[39mwrite(module_index)\n\u001b[0;32m     66\u001b[0m \u001b[38;5;66;03m# with mkdocs_gen_files.open(full_doc_path, \"w\") as fd:\u001b[39;00m\n\u001b[0;32m     67\u001b[0m \u001b[38;5;66;03m#     identifier = \".\".join(parts)\u001b[39;00m\n\u001b[0;32m     68\u001b[0m \u001b[38;5;66;03m#     print(f\"---\\ntitle: {identifier}\\n---\\n\\n::: {identifier}\", file=fd)\u001b[39;00m\n\u001b[0;32m     69\u001b[0m \n\u001b[0;32m     70\u001b[0m \u001b[38;5;66;03m# mkdocs_gen_files.set_edit_path(full_doc_path, path.relative_to(root))\u001b[39;00m\n",
      "File \u001b[1;32mc:\\Users\\praveen.DESKTOP-M8IKVFE\\anaconda3\\envs\\44n\\lib\\site-packages\\mkdocs_gen_files\\__init__.py:20\u001b[0m, in \u001b[0;36m__getattr__\u001b[1;34m(name)\u001b[0m\n\u001b[0;32m     19\u001b[0m \u001b[38;5;28;01mdef\u001b[39;00m \u001b[38;5;21m__getattr__\u001b[39m(name: \u001b[38;5;28mstr\u001b[39m):\n\u001b[1;32m---> 20\u001b[0m     \u001b[38;5;28;01mreturn\u001b[39;00m \u001b[38;5;28mgetattr\u001b[39m(\u001b[43mFilesEditor\u001b[49m\u001b[38;5;241;43m.\u001b[39;49m\u001b[43mcurrent\u001b[49m\u001b[43m(\u001b[49m\u001b[43m)\u001b[49m, name)\n",
      "File \u001b[1;32mc:\\Users\\praveen.DESKTOP-M8IKVFE\\anaconda3\\envs\\44n\\lib\\site-packages\\mkdocs_gen_files\\editor.py:99\u001b[0m, in \u001b[0;36mFilesEditor.current\u001b[1;34m(cls)\u001b[0m\n\u001b[0;32m     97\u001b[0m     \u001b[38;5;28;01mreturn\u001b[39;00m \u001b[38;5;28mcls\u001b[39m\u001b[38;5;241m.\u001b[39m_current\n\u001b[0;32m     98\u001b[0m \u001b[38;5;28;01mif\u001b[39;00m \u001b[38;5;129;01mnot\u001b[39;00m \u001b[38;5;28mcls\u001b[39m\u001b[38;5;241m.\u001b[39m_default:\n\u001b[1;32m---> 99\u001b[0m     config \u001b[38;5;241m=\u001b[39m \u001b[43mload_config\u001b[49m\u001b[43m(\u001b[49m\u001b[38;5;124;43m\"\u001b[39;49m\u001b[38;5;124;43mmkdocs.yml\u001b[39;49m\u001b[38;5;124;43m\"\u001b[39;49m\u001b[43m)\u001b[49m\n\u001b[0;32m    100\u001b[0m     config[\u001b[38;5;124m\"\u001b[39m\u001b[38;5;124mplugins\u001b[39m\u001b[38;5;124m\"\u001b[39m]\u001b[38;5;241m.\u001b[39mrun_event(\u001b[38;5;124m\"\u001b[39m\u001b[38;5;124mconfig\u001b[39m\u001b[38;5;124m\"\u001b[39m, config)\n\u001b[0;32m    101\u001b[0m     \u001b[38;5;28mcls\u001b[39m\u001b[38;5;241m.\u001b[39m_default \u001b[38;5;241m=\u001b[39m FilesEditor(Files([]), config)\n",
      "File \u001b[1;32mc:\\Users\\praveen.DESKTOP-M8IKVFE\\anaconda3\\envs\\44n\\lib\\site-packages\\mkdocs\\config\\base.py:360\u001b[0m, in \u001b[0;36mload_config\u001b[1;34m(config_file, config_file_path, **kwargs)\u001b[0m\n\u001b[0;32m    357\u001b[0m     \u001b[38;5;28;01mif\u001b[39;00m value \u001b[38;5;129;01mis\u001b[39;00m \u001b[38;5;28;01mNone\u001b[39;00m:\n\u001b[0;32m    358\u001b[0m         options\u001b[38;5;241m.\u001b[39mpop(key)\n\u001b[1;32m--> 360\u001b[0m \u001b[38;5;28;01mwith\u001b[39;00m _open_config_file(config_file) \u001b[38;5;28;01mas\u001b[39;00m fd:\n\u001b[0;32m    361\u001b[0m     \u001b[38;5;66;03m# Initialize the config with the default schema.\u001b[39;00m\n\u001b[0;32m    362\u001b[0m     \u001b[38;5;28;01mfrom\u001b[39;00m \u001b[38;5;21;01mmkdocs\u001b[39;00m\u001b[38;5;21;01m.\u001b[39;00m\u001b[38;5;21;01mconfig\u001b[39;00m\u001b[38;5;21;01m.\u001b[39;00m\u001b[38;5;21;01mdefaults\u001b[39;00m \u001b[38;5;28;01mimport\u001b[39;00m MkDocsConfig\n\u001b[0;32m    364\u001b[0m     \u001b[38;5;28;01mif\u001b[39;00m config_file_path \u001b[38;5;129;01mis\u001b[39;00m \u001b[38;5;28;01mNone\u001b[39;00m:\n",
      "File \u001b[1;32mc:\\Users\\praveen.DESKTOP-M8IKVFE\\anaconda3\\envs\\44n\\lib\\contextlib.py:119\u001b[0m, in \u001b[0;36m_GeneratorContextManager.__enter__\u001b[1;34m(self)\u001b[0m\n\u001b[0;32m    117\u001b[0m \u001b[38;5;28;01mdel\u001b[39;00m \u001b[38;5;28mself\u001b[39m\u001b[38;5;241m.\u001b[39margs, \u001b[38;5;28mself\u001b[39m\u001b[38;5;241m.\u001b[39mkwds, \u001b[38;5;28mself\u001b[39m\u001b[38;5;241m.\u001b[39mfunc\n\u001b[0;32m    118\u001b[0m \u001b[38;5;28;01mtry\u001b[39;00m:\n\u001b[1;32m--> 119\u001b[0m     \u001b[38;5;28;01mreturn\u001b[39;00m \u001b[38;5;28;43mnext\u001b[39;49m\u001b[43m(\u001b[49m\u001b[38;5;28;43mself\u001b[39;49m\u001b[38;5;241;43m.\u001b[39;49m\u001b[43mgen\u001b[49m\u001b[43m)\u001b[49m\n\u001b[0;32m    120\u001b[0m \u001b[38;5;28;01mexcept\u001b[39;00m \u001b[38;5;167;01mStopIteration\u001b[39;00m:\n\u001b[0;32m    121\u001b[0m     \u001b[38;5;28;01mraise\u001b[39;00m \u001b[38;5;167;01mRuntimeError\u001b[39;00m(\u001b[38;5;124m\"\u001b[39m\u001b[38;5;124mgenerator didn\u001b[39m\u001b[38;5;124m'\u001b[39m\u001b[38;5;124mt yield\u001b[39m\u001b[38;5;124m\"\u001b[39m) \u001b[38;5;28;01mfrom\u001b[39;00m \u001b[38;5;28;01mNone\u001b[39;00m\n",
      "File \u001b[1;32mc:\\Users\\praveen.DESKTOP-M8IKVFE\\anaconda3\\envs\\44n\\lib\\site-packages\\mkdocs\\config\\base.py:324\u001b[0m, in \u001b[0;36m_open_config_file\u001b[1;34m(config_file)\u001b[0m\n\u001b[0;32m    322\u001b[0m             \u001b[38;5;28;01mcontinue\u001b[39;00m\n\u001b[0;32m    323\u001b[0m     \u001b[38;5;28;01melse\u001b[39;00m:\n\u001b[1;32m--> 324\u001b[0m         \u001b[38;5;28;01mraise\u001b[39;00m exceptions\u001b[38;5;241m.\u001b[39mConfigurationError(\u001b[38;5;124mf\u001b[39m\u001b[38;5;124m\"\u001b[39m\u001b[38;5;124mConfig file \u001b[39m\u001b[38;5;124m'\u001b[39m\u001b[38;5;132;01m{\u001b[39;00mpaths_to_try[\u001b[38;5;241m0\u001b[39m]\u001b[38;5;132;01m}\u001b[39;00m\u001b[38;5;124m'\u001b[39m\u001b[38;5;124m does not exist.\u001b[39m\u001b[38;5;124m\"\u001b[39m)\n\u001b[0;32m    325\u001b[0m \u001b[38;5;28;01melse\u001b[39;00m:\n\u001b[0;32m    326\u001b[0m     log\u001b[38;5;241m.\u001b[39mdebug(\u001b[38;5;124mf\u001b[39m\u001b[38;5;124m\"\u001b[39m\u001b[38;5;124mLoading configuration file: \u001b[39m\u001b[38;5;132;01m{\u001b[39;00mresult_config_file\u001b[38;5;132;01m}\u001b[39;00m\u001b[38;5;124m\"\u001b[39m)\n",
      "\u001b[1;31mConfigurationError\u001b[0m: Config file 'mkdocs.yml' does not exist."
     ]
    }
   ],
   "source": [
    "\"\"\"Generate the code reference pages.\"\"\"\n",
    "import os\n",
    "\n",
    "from pathlib import Path\n",
    "\n",
    "import mkdocs_gen_files\n",
    "\n",
    "\n",
    "nav = mkdocs_gen_files.Nav()\n",
    "mod_symbol = ''#<code class=\"doc-symbol doc-symbol-nav doc-symbol-module\"></code>'\n",
    "\n",
    "root = Path(os.getcwd()).parent\n",
    "src: Path = root\n",
    "\n",
    "for path in sorted(src.rglob(\"*.py\")):\n",
    "    # Skip the scripts and tests directories\n",
    "    if not path.relative_to(src).parts[0] == \"neuro_py\":\n",
    "        continue\n",
    "\n",
    "    module_path = path.relative_to(src).with_suffix(\"\")\n",
    "    doc_path = path.relative_to(src).with_suffix(\".md\")\n",
    "    print(module_path)\n",
    "    print(doc_path)\n",
    "    full_doc_path = Path(\"reference\", doc_path)\n",
    "    print(full_doc_path)\n",
    "\n",
    "    parts = tuple(module_path.parts)\n",
    "\n",
    "    if parts[-1] == \"__init__\":\n",
    "        parts = parts[:-1]\n",
    "        doc_path = doc_path.with_name(\"index.md\")\n",
    "        full_doc_path = full_doc_path.with_name(\"index.md\")\n",
    "    elif parts[-1] == \"__main__\":\n",
    "        continue\n",
    "\n",
    "    nav_parts = [f\"{mod_symbol} {part}\" for part in parts]\n",
    "    nav[tuple(nav_parts)] = doc_path.as_posix()\n",
    "\n",
    "    # if the md file name is `module.md`, generate documentation from docstrings\n",
    "    if full_doc_path.name != 'index.md':\n",
    "        \n",
    "        with mkdocs_gen_files.open(full_doc_path, \"w\") as fd:\n",
    "            ident = \".\".join(parts)\n",
    "            fd.write(f\"::: {ident}\")\n",
    "\n",
    "    else:\n",
    "        this_module_path = src\n",
    "        module_index = \"\"\n",
    "\n",
    "        module_order = sorted(this_module_path.rglob(\"*.py\"))\n",
    "        module_order = [m.name.replace('.py', '') for m in module_order]\n",
    "\n",
    "        for m in module_order:\n",
    "            if \"__init__\" in m:\n",
    "                continue\n",
    "            if m[0] == \"_\":\n",
    "                continue\n",
    "\n",
    "            module_name = m\n",
    "            module_index += f\"* [{module_name}]\" \\\n",
    "                            \"(\"+m+\".md)\\n\"\n",
    "\n",
    "        with mkdocs_gen_files.open(full_doc_path, \"w\") as fd:\n",
    "            fd.write(module_index)\n",
    "\n",
    "    # with mkdocs_gen_files.open(full_doc_path, \"w\") as fd:\n",
    "    #     identifier = \".\".join(parts)\n",
    "    #     print(f\"---\\ntitle: {identifier}\\n---\\n\\n::: {identifier}\", file=fd)\n",
    "\n",
    "    # mkdocs_gen_files.set_edit_path(full_doc_path, path.relative_to(root))\n",
    "\n",
    "with mkdocs_gen_files.open(\"reference/SUMMARY.md\", \"w\") as nav_file:\n",
    "    nav_file.writelines(nav.build_literate_nav())\n"
   ]
  },
  {
   "cell_type": "code",
   "execution_count": 1,
   "metadata": {},
   "outputs": [],
   "source": [
    "%reload_ext autoreload\n",
    "%autoreload 2\n",
    "from neuro_py.process import peri_event\n",
    "import numpy as np"
   ]
  },
  {
   "cell_type": "code",
   "execution_count": 2,
   "metadata": {},
   "outputs": [
    {
     "data": {
      "text/plain": [
       "(array([nan, 0. , 0.5, 1. , 0. , 0.5, 1. , 0. , 0.5, 1. ]),\n",
       " array([nan,  0.,  0.,  0.,  1.,  1.,  1.,  2.,  2.,  2.]))"
      ]
     },
     "execution_count": 2,
     "metadata": {},
     "output_type": "execute_result"
    }
   ],
   "source": [
    "\n",
    "t = np.array([0, 1, 2, 3, 4, 5, 6, 7, 8, 9])\n",
    "intervals = np.array([[1, 3], [4, 6], [7, 9]])\n",
    "peri_event.relative_times(t, intervals)\n"
   ]
  },
  {
   "cell_type": "code",
   "execution_count": 20,
   "metadata": {},
   "outputs": [],
   "source": [
    "from numba import jit"
   ]
  },
  {
   "cell_type": "code",
   "execution_count": 38,
   "metadata": {},
   "outputs": [
    {
     "data": {
      "text/plain": [
       "(array([nan, 0. , 0.5, 1. , 0. , 0.5, 1. , 0. , 0.5, 1. ]),\n",
       " array([nan,  0.,  0.,  0.,  1.,  1.,  1.,  2.,  2.,  2.]))"
      ]
     },
     "execution_count": 38,
     "metadata": {},
     "output_type": "execute_result"
    }
   ],
   "source": [
    "@jit(nopython=True)\n",
    "def relative_times(t, intervals, values=np.array([0, 1])):    \n",
    "    rt = np.zeros(len(t), dtype=np.float64) * np.nan\n",
    "    intervalID = np.zeros(len(t), dtype=np.float64) * np.nan\n",
    "\n",
    "    start_times = intervals[:, 0]\n",
    "    end_times = intervals[:, 1]\n",
    "    values_diff = values[1] - values[0]\n",
    "    intervals_diff = end_times - start_times\n",
    "    intervals_scale = values_diff / intervals_diff\n",
    "\n",
    "    for i in range(len(t)):\n",
    "        idx = np.searchsorted(start_times, t[i])\n",
    "        if idx > 0 and t[i] <= end_times[idx - 1]:\n",
    "            interval_i = idx - 1\n",
    "        elif idx < len(start_times) and t[i] == start_times[idx]:\n",
    "            interval_i = idx\n",
    "        else:\n",
    "            continue\n",
    "\n",
    "        scale = intervals_scale[interval_i]\n",
    "        rt[i] = ((t[i] - start_times[interval_i]) * scale) + values[0]\n",
    "        intervalID[i] = interval_i\n",
    "\n",
    "    return rt, intervalID\n",
    "\n",
    "t = np.array([0, 1, 2, 3, 4, 5, 6, 7, 8, 9])\n",
    "intervals = np.array([[1, 3], [4, 6], [7, 9]])\n",
    "relative_times(t, intervals)\n"
   ]
  },
  {
   "cell_type": "code",
   "execution_count": null,
   "metadata": {},
   "outputs": [],
   "source": []
  },
  {
   "cell_type": "code",
   "execution_count": null,
   "metadata": {},
   "outputs": [],
   "source": []
  }
 ],
 "metadata": {
  "kernelspec": {
   "display_name": "ripple_heterogeneity",
   "language": "python",
   "name": "python3"
  },
  "language_info": {
   "codemirror_mode": {
    "name": "ipython",
    "version": 3
   },
   "file_extension": ".py",
   "mimetype": "text/x-python",
   "name": "python",
   "nbconvert_exporter": "python",
   "pygments_lexer": "ipython3",
   "version": "3.9.19"
  },
  "orig_nbformat": 4
 },
 "nbformat": 4,
 "nbformat_minor": 2
}
